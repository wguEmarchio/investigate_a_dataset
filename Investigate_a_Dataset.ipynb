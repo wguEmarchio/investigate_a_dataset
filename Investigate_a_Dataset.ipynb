{
 "cells": [
  {
   "cell_type": "markdown",
   "metadata": {},
   "source": [
    "# Project: Investigate a Dataset - The Movie Database\n",
    "\n",
    "## Table of Contents\n",
    "<ul>\n",
    "<li><a href=\"#intro\">Introduction</a></li>\n",
    "<li><a href=\"#wrangling\">Data Wrangling</a></li>\n",
    "<li><a href=\"#eda\">Exploratory Data Analysis</a></li>\n",
    "<li><a href=\"#conclusions\">Conclusions</a></li>\n",
    "</ul>"
   ]
  },
  {
   "cell_type": "markdown",
   "metadata": {},
   "source": [
    "<a id='intro'></a>\n",
    "## Introduction\n",
    "\n",
    "The data set used comes from \"The Movie Database (TMDb)\" and contains information collected on over 10,000 \n",
    "movies over the last 50 years. The data set has information on the movie's title, cast, genres, user ratings, \n",
    "popularity, budget, revenue and more. The \"budget\" and \"revenue\" data also has corresponding \"budget_adj\" and \"revenue_adj\"\n",
    "values that account for what the 2010 value of these numbers would be, counting for inflation. \n",
    "\n",
    "For this project, I wanted to focus on the questions of determining correlation between different attributes of a movie and its success.\n",
    "- Does a higher budget correlate to higher popularity?\n",
    "- What are correlating factors for movies that have the highest revenue? "
   ]
  },
  {
   "cell_type": "markdown",
   "metadata": {},
   "source": [
    "### Imports"
   ]
  },
  {
   "cell_type": "code",
   "execution_count": 57,
   "metadata": {},
   "outputs": [
    {
     "name": "stdout",
     "output_type": "stream",
     "text": [
      "Populating the interactive namespace from numpy and matplotlib\n"
     ]
    }
   ],
   "source": [
    "# Import necessary python libraries\n",
    "\n",
    "%pylab inline\n",
    "\n",
    "import numpy as np\n",
    "import pandas as pd\n",
    "import matplotlib.pyplot as plt\n",
    "import seaborn as sns\n",
    "from datetime import datetime as dt"
   ]
  },
  {
   "cell_type": "markdown",
   "metadata": {},
   "source": [
    "### Resources Used\n",
    "\n",
    "I was able to find helpful information on Python, Pandas, Dataframes, MatPlotLib and more:\n",
    "- https://www.springboard.com/blog/data-wrangling/\n",
    "- https://www.geeksforgeeks.org/working-with-missing-data-in-pandas/#:~:text=In%20order%20to%20check%20missing,null%20values%20in%20a%20series.\n",
    "- https://dzone.com/articles/pandas-find-rows-where-columnfield-is-null\n",
    "- https://pbpython.com/pandas_dtypes.html\n",
    "- https://stackoverflow.com/questions/46091924/python-how-to-drop-a-row-whose-particular-column-is-empty-nan\n",
    "- https://note.nkmk.me/en/python-pandas-set-index/\n",
    "- https://stackoverflow.com/questions/50165953/python-dataframes-describing-a-single-column\n",
    "- https://www.interviewqs.com/ddi_code_snippets/extract_month_year_pandas\n",
    "- https://cmdlinetips.com/2019/02/how-to-make-histogram-in-python-with-pandas-and-seaborn/\n",
    "- https://pandas.pydata.org/pandas-docs/stable/reference/api/pandas.core.groupby.GroupBy.mean.html\n",
    "- https://datatofish.com/correlation-matrix-pandas/\n",
    "- https://stackoverflow.com/questions/6986986/bin-size-in-matplotlib-histogram"
   ]
  },
  {
   "cell_type": "markdown",
   "metadata": {},
   "source": [
    "<a id='wrangling'></a>\n",
    "## Data Wrangling"
   ]
  },
  {
   "cell_type": "markdown",
   "metadata": {},
   "source": [
    "### Load Data\n",
    "The first step is to load the data from the csv file. This is done with Pandas, and automatically converts the data into a\n",
    "Pandas DataFrame."
   ]
  },
  {
   "cell_type": "code",
   "execution_count": 58,
   "metadata": {
    "scrolled": true
   },
   "outputs": [
    {
     "data": {
      "text/html": [
       "<div>\n",
       "<style scoped>\n",
       "    .dataframe tbody tr th:only-of-type {\n",
       "        vertical-align: middle;\n",
       "    }\n",
       "\n",
       "    .dataframe tbody tr th {\n",
       "        vertical-align: top;\n",
       "    }\n",
       "\n",
       "    .dataframe thead th {\n",
       "        text-align: right;\n",
       "    }\n",
       "</style>\n",
       "<table border=\"1\" class=\"dataframe\">\n",
       "  <thead>\n",
       "    <tr style=\"text-align: right;\">\n",
       "      <th></th>\n",
       "      <th>id</th>\n",
       "      <th>imdb_id</th>\n",
       "      <th>popularity</th>\n",
       "      <th>budget</th>\n",
       "      <th>revenue</th>\n",
       "      <th>original_title</th>\n",
       "      <th>cast</th>\n",
       "      <th>homepage</th>\n",
       "      <th>director</th>\n",
       "      <th>tagline</th>\n",
       "      <th>...</th>\n",
       "      <th>overview</th>\n",
       "      <th>runtime</th>\n",
       "      <th>genres</th>\n",
       "      <th>production_companies</th>\n",
       "      <th>release_date</th>\n",
       "      <th>vote_count</th>\n",
       "      <th>vote_average</th>\n",
       "      <th>release_year</th>\n",
       "      <th>budget_adj</th>\n",
       "      <th>revenue_adj</th>\n",
       "    </tr>\n",
       "  </thead>\n",
       "  <tbody>\n",
       "    <tr>\n",
       "      <th>0</th>\n",
       "      <td>135397</td>\n",
       "      <td>tt0369610</td>\n",
       "      <td>32.985763</td>\n",
       "      <td>150000000</td>\n",
       "      <td>1513528810</td>\n",
       "      <td>Jurassic World</td>\n",
       "      <td>Chris Pratt|Bryce Dallas Howard|Irrfan Khan|Vi...</td>\n",
       "      <td>http://www.jurassicworld.com/</td>\n",
       "      <td>Colin Trevorrow</td>\n",
       "      <td>The park is open.</td>\n",
       "      <td>...</td>\n",
       "      <td>Twenty-two years after the events of Jurassic ...</td>\n",
       "      <td>124</td>\n",
       "      <td>Action|Adventure|Science Fiction|Thriller</td>\n",
       "      <td>Universal Studios|Amblin Entertainment|Legenda...</td>\n",
       "      <td>6/9/15</td>\n",
       "      <td>5562</td>\n",
       "      <td>6.5</td>\n",
       "      <td>2015</td>\n",
       "      <td>1.379999e+08</td>\n",
       "      <td>1.392446e+09</td>\n",
       "    </tr>\n",
       "    <tr>\n",
       "      <th>1</th>\n",
       "      <td>76341</td>\n",
       "      <td>tt1392190</td>\n",
       "      <td>28.419936</td>\n",
       "      <td>150000000</td>\n",
       "      <td>378436354</td>\n",
       "      <td>Mad Max: Fury Road</td>\n",
       "      <td>Tom Hardy|Charlize Theron|Hugh Keays-Byrne|Nic...</td>\n",
       "      <td>http://www.madmaxmovie.com/</td>\n",
       "      <td>George Miller</td>\n",
       "      <td>What a Lovely Day.</td>\n",
       "      <td>...</td>\n",
       "      <td>An apocalyptic story set in the furthest reach...</td>\n",
       "      <td>120</td>\n",
       "      <td>Action|Adventure|Science Fiction|Thriller</td>\n",
       "      <td>Village Roadshow Pictures|Kennedy Miller Produ...</td>\n",
       "      <td>5/13/15</td>\n",
       "      <td>6185</td>\n",
       "      <td>7.1</td>\n",
       "      <td>2015</td>\n",
       "      <td>1.379999e+08</td>\n",
       "      <td>3.481613e+08</td>\n",
       "    </tr>\n",
       "    <tr>\n",
       "      <th>2</th>\n",
       "      <td>262500</td>\n",
       "      <td>tt2908446</td>\n",
       "      <td>13.112507</td>\n",
       "      <td>110000000</td>\n",
       "      <td>295238201</td>\n",
       "      <td>Insurgent</td>\n",
       "      <td>Shailene Woodley|Theo James|Kate Winslet|Ansel...</td>\n",
       "      <td>http://www.thedivergentseries.movie/#insurgent</td>\n",
       "      <td>Robert Schwentke</td>\n",
       "      <td>One Choice Can Destroy You</td>\n",
       "      <td>...</td>\n",
       "      <td>Beatrice Prior must confront her inner demons ...</td>\n",
       "      <td>119</td>\n",
       "      <td>Adventure|Science Fiction|Thriller</td>\n",
       "      <td>Summit Entertainment|Mandeville Films|Red Wago...</td>\n",
       "      <td>3/18/15</td>\n",
       "      <td>2480</td>\n",
       "      <td>6.3</td>\n",
       "      <td>2015</td>\n",
       "      <td>1.012000e+08</td>\n",
       "      <td>2.716190e+08</td>\n",
       "    </tr>\n",
       "    <tr>\n",
       "      <th>3</th>\n",
       "      <td>140607</td>\n",
       "      <td>tt2488496</td>\n",
       "      <td>11.173104</td>\n",
       "      <td>200000000</td>\n",
       "      <td>2068178225</td>\n",
       "      <td>Star Wars: The Force Awakens</td>\n",
       "      <td>Harrison Ford|Mark Hamill|Carrie Fisher|Adam D...</td>\n",
       "      <td>http://www.starwars.com/films/star-wars-episod...</td>\n",
       "      <td>J.J. Abrams</td>\n",
       "      <td>Every generation has a story.</td>\n",
       "      <td>...</td>\n",
       "      <td>Thirty years after defeating the Galactic Empi...</td>\n",
       "      <td>136</td>\n",
       "      <td>Action|Adventure|Science Fiction|Fantasy</td>\n",
       "      <td>Lucasfilm|Truenorth Productions|Bad Robot</td>\n",
       "      <td>12/15/15</td>\n",
       "      <td>5292</td>\n",
       "      <td>7.5</td>\n",
       "      <td>2015</td>\n",
       "      <td>1.839999e+08</td>\n",
       "      <td>1.902723e+09</td>\n",
       "    </tr>\n",
       "    <tr>\n",
       "      <th>4</th>\n",
       "      <td>168259</td>\n",
       "      <td>tt2820852</td>\n",
       "      <td>9.335014</td>\n",
       "      <td>190000000</td>\n",
       "      <td>1506249360</td>\n",
       "      <td>Furious 7</td>\n",
       "      <td>Vin Diesel|Paul Walker|Jason Statham|Michelle ...</td>\n",
       "      <td>http://www.furious7.com/</td>\n",
       "      <td>James Wan</td>\n",
       "      <td>Vengeance Hits Home</td>\n",
       "      <td>...</td>\n",
       "      <td>Deckard Shaw seeks revenge against Dominic Tor...</td>\n",
       "      <td>137</td>\n",
       "      <td>Action|Crime|Thriller</td>\n",
       "      <td>Universal Pictures|Original Film|Media Rights ...</td>\n",
       "      <td>4/1/15</td>\n",
       "      <td>2947</td>\n",
       "      <td>7.3</td>\n",
       "      <td>2015</td>\n",
       "      <td>1.747999e+08</td>\n",
       "      <td>1.385749e+09</td>\n",
       "    </tr>\n",
       "  </tbody>\n",
       "</table>\n",
       "<p>5 rows × 21 columns</p>\n",
       "</div>"
      ],
      "text/plain": [
       "       id    imdb_id  popularity     budget     revenue  \\\n",
       "0  135397  tt0369610   32.985763  150000000  1513528810   \n",
       "1   76341  tt1392190   28.419936  150000000   378436354   \n",
       "2  262500  tt2908446   13.112507  110000000   295238201   \n",
       "3  140607  tt2488496   11.173104  200000000  2068178225   \n",
       "4  168259  tt2820852    9.335014  190000000  1506249360   \n",
       "\n",
       "                 original_title  \\\n",
       "0                Jurassic World   \n",
       "1            Mad Max: Fury Road   \n",
       "2                     Insurgent   \n",
       "3  Star Wars: The Force Awakens   \n",
       "4                     Furious 7   \n",
       "\n",
       "                                                cast  \\\n",
       "0  Chris Pratt|Bryce Dallas Howard|Irrfan Khan|Vi...   \n",
       "1  Tom Hardy|Charlize Theron|Hugh Keays-Byrne|Nic...   \n",
       "2  Shailene Woodley|Theo James|Kate Winslet|Ansel...   \n",
       "3  Harrison Ford|Mark Hamill|Carrie Fisher|Adam D...   \n",
       "4  Vin Diesel|Paul Walker|Jason Statham|Michelle ...   \n",
       "\n",
       "                                            homepage          director  \\\n",
       "0                      http://www.jurassicworld.com/   Colin Trevorrow   \n",
       "1                        http://www.madmaxmovie.com/     George Miller   \n",
       "2     http://www.thedivergentseries.movie/#insurgent  Robert Schwentke   \n",
       "3  http://www.starwars.com/films/star-wars-episod...       J.J. Abrams   \n",
       "4                           http://www.furious7.com/         James Wan   \n",
       "\n",
       "                         tagline  ...  \\\n",
       "0              The park is open.  ...   \n",
       "1             What a Lovely Day.  ...   \n",
       "2     One Choice Can Destroy You  ...   \n",
       "3  Every generation has a story.  ...   \n",
       "4            Vengeance Hits Home  ...   \n",
       "\n",
       "                                            overview runtime  \\\n",
       "0  Twenty-two years after the events of Jurassic ...     124   \n",
       "1  An apocalyptic story set in the furthest reach...     120   \n",
       "2  Beatrice Prior must confront her inner demons ...     119   \n",
       "3  Thirty years after defeating the Galactic Empi...     136   \n",
       "4  Deckard Shaw seeks revenge against Dominic Tor...     137   \n",
       "\n",
       "                                      genres  \\\n",
       "0  Action|Adventure|Science Fiction|Thriller   \n",
       "1  Action|Adventure|Science Fiction|Thriller   \n",
       "2         Adventure|Science Fiction|Thriller   \n",
       "3   Action|Adventure|Science Fiction|Fantasy   \n",
       "4                      Action|Crime|Thriller   \n",
       "\n",
       "                                production_companies release_date vote_count  \\\n",
       "0  Universal Studios|Amblin Entertainment|Legenda...       6/9/15       5562   \n",
       "1  Village Roadshow Pictures|Kennedy Miller Produ...      5/13/15       6185   \n",
       "2  Summit Entertainment|Mandeville Films|Red Wago...      3/18/15       2480   \n",
       "3          Lucasfilm|Truenorth Productions|Bad Robot     12/15/15       5292   \n",
       "4  Universal Pictures|Original Film|Media Rights ...       4/1/15       2947   \n",
       "\n",
       "   vote_average  release_year    budget_adj   revenue_adj  \n",
       "0           6.5          2015  1.379999e+08  1.392446e+09  \n",
       "1           7.1          2015  1.379999e+08  3.481613e+08  \n",
       "2           6.3          2015  1.012000e+08  2.716190e+08  \n",
       "3           7.5          2015  1.839999e+08  1.902723e+09  \n",
       "4           7.3          2015  1.747999e+08  1.385749e+09  \n",
       "\n",
       "[5 rows x 21 columns]"
      ]
     },
     "execution_count": 58,
     "metadata": {},
     "output_type": "execute_result"
    }
   ],
   "source": [
    "# Load data with Pandas and print out the first five lines\n",
    "\n",
    "movieList = pd.read_csv('tmdb-movies.csv')\n",
    "movieList.head()"
   ]
  },
  {
   "cell_type": "code",
   "execution_count": 59,
   "metadata": {},
   "outputs": [
    {
     "name": "stdout",
     "output_type": "stream",
     "text": [
      "Total Number of Rows:  10866\n"
     ]
    }
   ],
   "source": [
    "#Check the number of rows in the full list\n",
    "\n",
    "print('Total Number of Rows: ',len(movieList))"
   ]
  },
  {
   "cell_type": "code",
   "execution_count": 60,
   "metadata": {},
   "outputs": [
    {
     "data": {
      "text/html": [
       "<div>\n",
       "<style scoped>\n",
       "    .dataframe tbody tr th:only-of-type {\n",
       "        vertical-align: middle;\n",
       "    }\n",
       "\n",
       "    .dataframe tbody tr th {\n",
       "        vertical-align: top;\n",
       "    }\n",
       "\n",
       "    .dataframe thead th {\n",
       "        text-align: right;\n",
       "    }\n",
       "</style>\n",
       "<table border=\"1\" class=\"dataframe\">\n",
       "  <thead>\n",
       "    <tr style=\"text-align: right;\">\n",
       "      <th></th>\n",
       "      <th>id</th>\n",
       "      <th>popularity</th>\n",
       "      <th>budget</th>\n",
       "      <th>revenue</th>\n",
       "      <th>runtime</th>\n",
       "      <th>vote_count</th>\n",
       "      <th>vote_average</th>\n",
       "      <th>release_year</th>\n",
       "      <th>budget_adj</th>\n",
       "      <th>revenue_adj</th>\n",
       "    </tr>\n",
       "  </thead>\n",
       "  <tbody>\n",
       "    <tr>\n",
       "      <th>count</th>\n",
       "      <td>10866.000000</td>\n",
       "      <td>10866.000000</td>\n",
       "      <td>1.086600e+04</td>\n",
       "      <td>1.086600e+04</td>\n",
       "      <td>10866.000000</td>\n",
       "      <td>10866.000000</td>\n",
       "      <td>10866.000000</td>\n",
       "      <td>10866.000000</td>\n",
       "      <td>1.086600e+04</td>\n",
       "      <td>1.086600e+04</td>\n",
       "    </tr>\n",
       "    <tr>\n",
       "      <th>mean</th>\n",
       "      <td>66064.177434</td>\n",
       "      <td>0.646441</td>\n",
       "      <td>1.462570e+07</td>\n",
       "      <td>3.982332e+07</td>\n",
       "      <td>102.070863</td>\n",
       "      <td>217.389748</td>\n",
       "      <td>5.974922</td>\n",
       "      <td>2001.322658</td>\n",
       "      <td>1.755104e+07</td>\n",
       "      <td>5.136436e+07</td>\n",
       "    </tr>\n",
       "    <tr>\n",
       "      <th>std</th>\n",
       "      <td>92130.136561</td>\n",
       "      <td>1.000185</td>\n",
       "      <td>3.091321e+07</td>\n",
       "      <td>1.170035e+08</td>\n",
       "      <td>31.381405</td>\n",
       "      <td>575.619058</td>\n",
       "      <td>0.935142</td>\n",
       "      <td>12.812941</td>\n",
       "      <td>3.430616e+07</td>\n",
       "      <td>1.446325e+08</td>\n",
       "    </tr>\n",
       "    <tr>\n",
       "      <th>min</th>\n",
       "      <td>5.000000</td>\n",
       "      <td>0.000065</td>\n",
       "      <td>0.000000e+00</td>\n",
       "      <td>0.000000e+00</td>\n",
       "      <td>0.000000</td>\n",
       "      <td>10.000000</td>\n",
       "      <td>1.500000</td>\n",
       "      <td>1960.000000</td>\n",
       "      <td>0.000000e+00</td>\n",
       "      <td>0.000000e+00</td>\n",
       "    </tr>\n",
       "    <tr>\n",
       "      <th>25%</th>\n",
       "      <td>10596.250000</td>\n",
       "      <td>0.207583</td>\n",
       "      <td>0.000000e+00</td>\n",
       "      <td>0.000000e+00</td>\n",
       "      <td>90.000000</td>\n",
       "      <td>17.000000</td>\n",
       "      <td>5.400000</td>\n",
       "      <td>1995.000000</td>\n",
       "      <td>0.000000e+00</td>\n",
       "      <td>0.000000e+00</td>\n",
       "    </tr>\n",
       "    <tr>\n",
       "      <th>50%</th>\n",
       "      <td>20669.000000</td>\n",
       "      <td>0.383856</td>\n",
       "      <td>0.000000e+00</td>\n",
       "      <td>0.000000e+00</td>\n",
       "      <td>99.000000</td>\n",
       "      <td>38.000000</td>\n",
       "      <td>6.000000</td>\n",
       "      <td>2006.000000</td>\n",
       "      <td>0.000000e+00</td>\n",
       "      <td>0.000000e+00</td>\n",
       "    </tr>\n",
       "    <tr>\n",
       "      <th>75%</th>\n",
       "      <td>75610.000000</td>\n",
       "      <td>0.713817</td>\n",
       "      <td>1.500000e+07</td>\n",
       "      <td>2.400000e+07</td>\n",
       "      <td>111.000000</td>\n",
       "      <td>145.750000</td>\n",
       "      <td>6.600000</td>\n",
       "      <td>2011.000000</td>\n",
       "      <td>2.085325e+07</td>\n",
       "      <td>3.369710e+07</td>\n",
       "    </tr>\n",
       "    <tr>\n",
       "      <th>max</th>\n",
       "      <td>417859.000000</td>\n",
       "      <td>32.985763</td>\n",
       "      <td>4.250000e+08</td>\n",
       "      <td>2.781506e+09</td>\n",
       "      <td>900.000000</td>\n",
       "      <td>9767.000000</td>\n",
       "      <td>9.200000</td>\n",
       "      <td>2015.000000</td>\n",
       "      <td>4.250000e+08</td>\n",
       "      <td>2.827124e+09</td>\n",
       "    </tr>\n",
       "  </tbody>\n",
       "</table>\n",
       "</div>"
      ],
      "text/plain": [
       "                  id    popularity        budget       revenue       runtime  \\\n",
       "count   10866.000000  10866.000000  1.086600e+04  1.086600e+04  10866.000000   \n",
       "mean    66064.177434      0.646441  1.462570e+07  3.982332e+07    102.070863   \n",
       "std     92130.136561      1.000185  3.091321e+07  1.170035e+08     31.381405   \n",
       "min         5.000000      0.000065  0.000000e+00  0.000000e+00      0.000000   \n",
       "25%     10596.250000      0.207583  0.000000e+00  0.000000e+00     90.000000   \n",
       "50%     20669.000000      0.383856  0.000000e+00  0.000000e+00     99.000000   \n",
       "75%     75610.000000      0.713817  1.500000e+07  2.400000e+07    111.000000   \n",
       "max    417859.000000     32.985763  4.250000e+08  2.781506e+09    900.000000   \n",
       "\n",
       "         vote_count  vote_average  release_year    budget_adj   revenue_adj  \n",
       "count  10866.000000  10866.000000  10866.000000  1.086600e+04  1.086600e+04  \n",
       "mean     217.389748      5.974922   2001.322658  1.755104e+07  5.136436e+07  \n",
       "std      575.619058      0.935142     12.812941  3.430616e+07  1.446325e+08  \n",
       "min       10.000000      1.500000   1960.000000  0.000000e+00  0.000000e+00  \n",
       "25%       17.000000      5.400000   1995.000000  0.000000e+00  0.000000e+00  \n",
       "50%       38.000000      6.000000   2006.000000  0.000000e+00  0.000000e+00  \n",
       "75%      145.750000      6.600000   2011.000000  2.085325e+07  3.369710e+07  \n",
       "max     9767.000000      9.200000   2015.000000  4.250000e+08  2.827124e+09  "
      ]
     },
     "execution_count": 60,
     "metadata": {},
     "output_type": "execute_result"
    }
   ],
   "source": [
    "# Use Pandas's \"describe\" function to see some basic statistics about the columns in the DataFrame\n",
    "\n",
    "movieList.describe()"
   ]
  },
  {
   "cell_type": "code",
   "execution_count": 61,
   "metadata": {},
   "outputs": [
    {
     "data": {
      "text/plain": [
       "id                        int64\n",
       "imdb_id                  object\n",
       "popularity              float64\n",
       "budget                    int64\n",
       "revenue                   int64\n",
       "original_title           object\n",
       "cast                     object\n",
       "homepage                 object\n",
       "director                 object\n",
       "tagline                  object\n",
       "keywords                 object\n",
       "overview                 object\n",
       "runtime                   int64\n",
       "genres                   object\n",
       "production_companies     object\n",
       "release_date             object\n",
       "vote_count                int64\n",
       "vote_average            float64\n",
       "release_year              int64\n",
       "budget_adj              float64\n",
       "revenue_adj             float64\n",
       "dtype: object"
      ]
     },
     "execution_count": 61,
     "metadata": {},
     "output_type": "execute_result"
    }
   ],
   "source": [
    "# Use Panda's \"dtypes\" function to see the current data types in the DataFrame\n",
    "\n",
    "movieList.dtypes"
   ]
  },
  {
   "cell_type": "markdown",
   "metadata": {},
   "source": [
    "After looking at the data types that currently exist, as well as the first five rows of data, I can see the following issues that will need to be addressed:\n",
    "- The \"release_date\" is an object. This will need to be converted to a datetime type. \n",
    "- The \"cast\", \"keywords\", \"genres\" and \"production_companies\" columns are strings separated by \"|\". This will need to be converted into Python lists in case I want to do anything with each separate value within the string.\n",
    "- When trying to set the \"id\" field as the index, it would not work because there were duplicates. For this reason, I decided to use the column \"imbd_id\" as the index instead.  This will be set later in the notebook."
   ]
  },
  {
   "cell_type": "markdown",
   "metadata": {},
   "source": [
    "### Check for Missing Data"
   ]
  },
  {
   "cell_type": "code",
   "execution_count": 62,
   "metadata": {},
   "outputs": [
    {
     "data": {
      "text/plain": [
       "imdb_id                   10\n",
       "cast                      76\n",
       "homepage                7930\n",
       "director                  44\n",
       "tagline                 2824\n",
       "keywords                1493\n",
       "overview                   4\n",
       "genres                    23\n",
       "production_companies    1030\n",
       "dtype: int64"
      ]
     },
     "execution_count": 62,
     "metadata": {},
     "output_type": "execute_result"
    }
   ],
   "source": [
    "# Count the number of nulls for each column\n",
    "\n",
    "null_values = movieList.columns[movieList.isnull().any()]\n",
    "movieList[null_values].isnull().sum()"
   ]
  },
  {
   "cell_type": "markdown",
   "metadata": {},
   "source": [
    "Based on the questions that I have decided to ask of the data, I need the following columns to not have null values: \n",
    "- imdb_id\n",
    "- popularity\n",
    "- budget_adj\n",
    "- revenue_adj\n",
    "- runtime\n",
    "- release date"
   ]
  },
  {
   "cell_type": "code",
   "execution_count": 63,
   "metadata": {},
   "outputs": [
    {
     "data": {
      "text/plain": [
       "id                       5\n",
       "popularity         6.5e-05\n",
       "budget                   0\n",
       "revenue                  0\n",
       "original_title    $5 a Day\n",
       "runtime                  0\n",
       "release_date        1/1/00\n",
       "vote_count              10\n",
       "vote_average           1.5\n",
       "release_year          1960\n",
       "budget_adj               0\n",
       "revenue_adj              0\n",
       "dtype: object"
      ]
     },
     "execution_count": 63,
     "metadata": {},
     "output_type": "execute_result"
    }
   ],
   "source": [
    "# Check for abnormalities with min\n",
    "\n",
    "movieList.min()"
   ]
  },
  {
   "cell_type": "markdown",
   "metadata": {},
   "source": [
    "There appear to be multiple columns that do have values of 0, as opposed to null. I will need to deal with this when\n",
    "cleaning up the data."
   ]
  },
  {
   "cell_type": "code",
   "execution_count": 64,
   "metadata": {},
   "outputs": [
    {
     "data": {
      "text/plain": [
       "id                     417859\n",
       "popularity            32.9858\n",
       "budget              425000000\n",
       "revenue            2781505847\n",
       "original_title       í•˜ìš¸ë§\n",
       "runtime                   900\n",
       "release_date           9/9/97\n",
       "vote_count               9767\n",
       "vote_average              9.2\n",
       "release_year             2015\n",
       "budget_adj           4.25e+08\n",
       "revenue_adj       2.82712e+09\n",
       "dtype: object"
      ]
     },
     "execution_count": 64,
     "metadata": {},
     "output_type": "execute_result"
    }
   ],
   "source": [
    "# Check for other abnormalities with max\n",
    "\n",
    "movieList.max()"
   ]
  },
  {
   "cell_type": "markdown",
   "metadata": {},
   "source": [
    "There appears to be an issue with the characters in \"original_title\"; however, the requirements of the project have specified\n",
    "that it is not necessary to handle these at this time. \n",
    "\n",
    "I've also noticed that the supposed max \"release_date\" is in 1997; however the max \"release_year\" is 2015. I will have to make\n",
    "sure that this is fixed once I convert \"release_date\" into a datetime."
   ]
  },
  {
   "cell_type": "code",
   "execution_count": 65,
   "metadata": {},
   "outputs": [
    {
     "name": "stdout",
     "output_type": "stream",
     "text": [
      "Records with Zero Budget:  5696\n",
      "Records with Zero Revenue:  6016\n",
      "Records with Zero Runtime:  31\n"
     ]
    }
   ],
   "source": [
    "# Check for 0 values\n",
    "\n",
    "zero_budget = movieList.loc[movieList['budget_adj'] == 0]\n",
    "print('Records with Zero Budget: ', len(zero_budget))\n",
    "\n",
    "zero_revenue = movieList.loc[movieList['revenue_adj'] == 0]\n",
    "print('Records with Zero Revenue: ', len(zero_revenue))\n",
    "\n",
    "zero_runtime = movieList.loc[movieList['runtime'] == 0]\n",
    "print('Records with Zero Runtime: ', len(zero_runtime))\n",
    "\n"
   ]
  },
  {
   "cell_type": "markdown",
   "metadata": {},
   "source": [
    "There appear to be quite a lot of records that have a value of 0 for \"budget\" and \"revenue\". Since I am using these columns to \n",
    "answer certain questions, I will need to get rid of those 0 values. Luckily, there are only a small number of records that have a 0 value for \"runtime\""
   ]
  },
  {
   "cell_type": "markdown",
   "metadata": {},
   "source": [
    "### Fix Data Types"
   ]
  },
  {
   "cell_type": "code",
   "execution_count": 66,
   "metadata": {},
   "outputs": [
    {
     "name": "stdout",
     "output_type": "stream",
     "text": [
      "datetime64[ns]\n"
     ]
    }
   ],
   "source": [
    "# Convert release_date to datetime and confirm data type\n",
    "\n",
    "movieList['release_date'] = pd.to_datetime(movieList['release_date'])\n",
    "    \n",
    "print(movieList['release_date'].dtypes)"
   ]
  },
  {
   "cell_type": "code",
   "execution_count": 67,
   "metadata": {},
   "outputs": [
    {
     "name": "stdout",
     "output_type": "stream",
     "text": [
      "0         6\n",
      "1         5\n",
      "2         3\n",
      "3        12\n",
      "4         4\n",
      "         ..\n",
      "10861     6\n",
      "10862    12\n",
      "10863     1\n",
      "10864    11\n",
      "10865    11\n",
      "Name: release_month, Length: 10866, dtype: int64\n"
     ]
    }
   ],
   "source": [
    "# Add a new column to keep track of release month\n",
    "\n",
    "movieList['release_month'] = pd.DatetimeIndex(movieList['release_date']).month\n",
    "print(movieList['release_month'])"
   ]
  },
  {
   "cell_type": "code",
   "execution_count": 68,
   "metadata": {},
   "outputs": [
    {
     "name": "stdout",
     "output_type": "stream",
     "text": [
      "0        [Chris Pratt, Bryce Dallas Howard, Irrfan Khan...\n",
      "1        [Tom Hardy, Charlize Theron, Hugh Keays-Byrne,...\n",
      "2        [Shailene Woodley, Theo James, Kate Winslet, A...\n",
      "3        [Harrison Ford, Mark Hamill, Carrie Fisher, Ad...\n",
      "4        [Vin Diesel, Paul Walker, Jason Statham, Miche...\n",
      "                               ...                        \n",
      "10861    [Michael Hynson, Robert August, Lord 'Tally Ho...\n",
      "10862    [James Garner, Eva Marie Saint, Yves Montand, ...\n",
      "10863    [Innokentiy Smoktunovskiy, Oleg Efremov, Georg...\n",
      "10864    [Tatsuya Mihashi, Akiko Wakabayashi, Mie Hama,...\n",
      "10865    [Harold P. Warren, Tom Neyman, John Reynolds, ...\n",
      "Name: cast, Length: 10866, dtype: object\n"
     ]
    }
   ],
   "source": [
    "# Convert columns that have string values into lists\n",
    "\n",
    "movieList['cast'] = movieList['cast'].str.split('|')\n",
    "print(movieList['cast'])"
   ]
  },
  {
   "cell_type": "code",
   "execution_count": 69,
   "metadata": {},
   "outputs": [
    {
     "name": "stdout",
     "output_type": "stream",
     "text": [
      "0        [monster, dna, tyrannosaurus rex, velociraptor...\n",
      "1        [future, chase, post-apocalyptic, dystopia, au...\n",
      "2        [based on novel, revolution, dystopia, sequel,...\n",
      "3              [android, spaceship, jedi, space opera, 3d]\n",
      "4                [car race, speed, revenge, suspense, car]\n",
      "                               ...                        \n",
      "10861                         [surfer, surfboard, surfing]\n",
      "10862                        [car race, racing, formula 1]\n",
      "10863                         [car, trolley, stealing car]\n",
      "10864                                              [spoof]\n",
      "10865            [fire, gun, drive, sacrifice, flashlight]\n",
      "Name: keywords, Length: 10866, dtype: object\n"
     ]
    }
   ],
   "source": [
    "movieList['keywords'] = movieList['keywords'].str.split('|')\n",
    "print(movieList['keywords'])"
   ]
  },
  {
   "cell_type": "code",
   "execution_count": 70,
   "metadata": {},
   "outputs": [
    {
     "name": "stdout",
     "output_type": "stream",
     "text": [
      "0        [Action, Adventure, Science Fiction, Thriller]\n",
      "1        [Action, Adventure, Science Fiction, Thriller]\n",
      "2                [Adventure, Science Fiction, Thriller]\n",
      "3         [Action, Adventure, Science Fiction, Fantasy]\n",
      "4                             [Action, Crime, Thriller]\n",
      "                              ...                      \n",
      "10861                                     [Documentary]\n",
      "10862                        [Action, Adventure, Drama]\n",
      "10863                                 [Mystery, Comedy]\n",
      "10864                                  [Action, Comedy]\n",
      "10865                                          [Horror]\n",
      "Name: genres, Length: 10866, dtype: object\n"
     ]
    }
   ],
   "source": [
    "movieList['genres'] = movieList['genres'].str.split('|')\n",
    "print(movieList['genres'])"
   ]
  },
  {
   "cell_type": "code",
   "execution_count": 71,
   "metadata": {},
   "outputs": [
    {
     "name": "stdout",
     "output_type": "stream",
     "text": [
      "0        [Universal Studios, Amblin Entertainment, Lege...\n",
      "1        [Village Roadshow Pictures, Kennedy Miller Pro...\n",
      "2        [Summit Entertainment, Mandeville Films, Red W...\n",
      "3            [Lucasfilm, Truenorth Productions, Bad Robot]\n",
      "4        [Universal Pictures, Original Film, Media Righ...\n",
      "                               ...                        \n",
      "10861                                  [Bruce Brown Films]\n",
      "10862    [Cherokee Productions, Joel Productions, Dougl...\n",
      "10863                                            [Mosfilm]\n",
      "10864                            [Benedict Pictures Corp.]\n",
      "10865                                          [Norm-Iris]\n",
      "Name: production_companies, Length: 10866, dtype: object\n"
     ]
    }
   ],
   "source": [
    "movieList['production_companies'] = movieList['production_companies'].str.split('|')\n",
    "print(movieList['production_companies'])"
   ]
  },
  {
   "cell_type": "code",
   "execution_count": 72,
   "metadata": {},
   "outputs": [
    {
     "data": {
      "text/plain": [
       "id                               int64\n",
       "imdb_id                         object\n",
       "popularity                     float64\n",
       "budget                           int64\n",
       "revenue                          int64\n",
       "original_title                  object\n",
       "cast                            object\n",
       "homepage                        object\n",
       "director                        object\n",
       "tagline                         object\n",
       "keywords                        object\n",
       "overview                        object\n",
       "runtime                          int64\n",
       "genres                          object\n",
       "production_companies            object\n",
       "release_date            datetime64[ns]\n",
       "vote_count                       int64\n",
       "vote_average                   float64\n",
       "release_year                     int64\n",
       "budget_adj                     float64\n",
       "revenue_adj                    float64\n",
       "release_month                    int64\n",
       "dtype: object"
      ]
     },
     "execution_count": 72,
     "metadata": {},
     "output_type": "execute_result"
    }
   ],
   "source": [
    "# Check all datatypes after changes made. \n",
    "\n",
    "movieList.dtypes"
   ]
  },
  {
   "cell_type": "markdown",
   "metadata": {},
   "source": [
    "### Fix Missing Data\n"
   ]
  },
  {
   "cell_type": "code",
   "execution_count": 73,
   "metadata": {},
   "outputs": [],
   "source": [
    "# Function to count total records and print value\n",
    "\n",
    "def print_count(data):\n",
    "    print('Total Records: ', len(data))"
   ]
  },
  {
   "cell_type": "code",
   "execution_count": 74,
   "metadata": {},
   "outputs": [
    {
     "name": "stdout",
     "output_type": "stream",
     "text": [
      "Total Records:  10856\n"
     ]
    }
   ],
   "source": [
    "# Remove rows with missing imdb_id\n",
    "\n",
    "movieList = movieList[movieList['imdb_id'].notnull()]\n",
    "print_count(movieList)"
   ]
  },
  {
   "cell_type": "code",
   "execution_count": 75,
   "metadata": {},
   "outputs": [
    {
     "name": "stdout",
     "output_type": "stream",
     "text": [
      "Total Records:  5169\n"
     ]
    }
   ],
   "source": [
    "# Remove rows with 0 budget_adj\n",
    "\n",
    "movieList = movieList[movieList.budget_adj != 0]\n",
    "print_count(movieList)"
   ]
  },
  {
   "cell_type": "code",
   "execution_count": 76,
   "metadata": {},
   "outputs": [
    {
     "name": "stdout",
     "output_type": "stream",
     "text": [
      "Total Records:  3855\n"
     ]
    }
   ],
   "source": [
    "# Remove rows with 0 revenue_adj\n",
    "\n",
    "movieList = movieList[movieList.revenue_adj != 0]\n",
    "print_count(movieList)"
   ]
  },
  {
   "cell_type": "code",
   "execution_count": 77,
   "metadata": {},
   "outputs": [
    {
     "name": "stdout",
     "output_type": "stream",
     "text": [
      "Total Records:  3855\n"
     ]
    }
   ],
   "source": [
    "# Remove rows with 0 runtime\n",
    "\n",
    "movieList = movieList[movieList.runtime != 0]\n",
    "print_count(movieList)"
   ]
  },
  {
   "cell_type": "markdown",
   "metadata": {},
   "source": [
    "After removing all the appropriate 0 value columns, I'm left with a lot fewer rows; however, my calculated statistics\n",
    "will be much more accurate."
   ]
  },
  {
   "cell_type": "code",
   "execution_count": 78,
   "metadata": {},
   "outputs": [
    {
     "data": {
      "text/plain": [
       "id                                                                5\n",
       "imdb_id                                                   tt0053604\n",
       "popularity                                                 0.001117\n",
       "budget                                                            1\n",
       "revenue                                                           2\n",
       "original_title                                 (500) Days of Summer\n",
       "overview          \"88 Minutes\" focuses on a college professor (P...\n",
       "runtime                                                          15\n",
       "genres                                                     [Action]\n",
       "release_date                                    1970-01-24 00:00:00\n",
       "vote_count                                                       10\n",
       "vote_average                                                    2.2\n",
       "release_year                                                   1960\n",
       "budget_adj                                                 0.969398\n",
       "revenue_adj                                                 2.37071\n",
       "release_month                                                     1\n",
       "dtype: object"
      ]
     },
     "execution_count": 78,
     "metadata": {},
     "output_type": "execute_result"
    }
   ],
   "source": [
    "# Re-check the minimum values for the entire list\n",
    "\n",
    "movieList.min()"
   ]
  },
  {
   "cell_type": "markdown",
   "metadata": {},
   "source": [
    "There are now no values of 0, and my minimum \"release_date\" looks much better."
   ]
  },
  {
   "cell_type": "code",
   "execution_count": 79,
   "metadata": {},
   "outputs": [
    {
     "data": {
      "text/plain": [
       "id                                                           417859\n",
       "imdb_id                                                   tt4337690\n",
       "popularity                                                  32.9858\n",
       "budget                                                    425000000\n",
       "revenue                                                  2781505847\n",
       "original_title                                ã‚¢ãƒƒãƒ—ãƒ«ã‚·ãƒ¼ãƒ‰\n",
       "overview          Zoo animals leave the comforts of man-made hab...\n",
       "runtime                                                         338\n",
       "genres                                          [Western, Thriller]\n",
       "release_date                                    2069-12-12 00:00:00\n",
       "vote_count                                                     9767\n",
       "vote_average                                                    8.4\n",
       "release_year                                                   2015\n",
       "budget_adj                                                 4.25e+08\n",
       "revenue_adj                                             2.82712e+09\n",
       "release_month                                                    12\n",
       "dtype: object"
      ]
     },
     "execution_count": 79,
     "metadata": {},
     "output_type": "execute_result"
    }
   ],
   "source": [
    "# Re-check the maximum values for the entire list\n",
    "\n",
    "movieList.max()"
   ]
  },
  {
   "cell_type": "markdown",
   "metadata": {},
   "source": [
    "I've noticed that the maximum \"release_date\" is actually set in the future. I will need to address this as well so that I\n",
    "only include records with information from the past."
   ]
  },
  {
   "cell_type": "code",
   "execution_count": 80,
   "metadata": {},
   "outputs": [
    {
     "name": "stdout",
     "output_type": "stream",
     "text": [
      "Total Records:  3784\n"
     ]
    }
   ],
   "source": [
    "# Remove rows that have a release date in the future\n",
    "\n",
    "movieList = movieList[movieList.release_date < dt.now()]\n",
    "print_count(movieList)"
   ]
  },
  {
   "cell_type": "markdown",
   "metadata": {},
   "source": [
    "### Set Index"
   ]
  },
  {
   "cell_type": "code",
   "execution_count": 81,
   "metadata": {},
   "outputs": [
    {
     "data": {
      "text/html": [
       "<div>\n",
       "<style scoped>\n",
       "    .dataframe tbody tr th:only-of-type {\n",
       "        vertical-align: middle;\n",
       "    }\n",
       "\n",
       "    .dataframe tbody tr th {\n",
       "        vertical-align: top;\n",
       "    }\n",
       "\n",
       "    .dataframe thead th {\n",
       "        text-align: right;\n",
       "    }\n",
       "</style>\n",
       "<table border=\"1\" class=\"dataframe\">\n",
       "  <thead>\n",
       "    <tr style=\"text-align: right;\">\n",
       "      <th></th>\n",
       "      <th>id</th>\n",
       "      <th>popularity</th>\n",
       "      <th>budget</th>\n",
       "      <th>revenue</th>\n",
       "      <th>original_title</th>\n",
       "      <th>cast</th>\n",
       "      <th>homepage</th>\n",
       "      <th>director</th>\n",
       "      <th>tagline</th>\n",
       "      <th>keywords</th>\n",
       "      <th>...</th>\n",
       "      <th>runtime</th>\n",
       "      <th>genres</th>\n",
       "      <th>production_companies</th>\n",
       "      <th>release_date</th>\n",
       "      <th>vote_count</th>\n",
       "      <th>vote_average</th>\n",
       "      <th>release_year</th>\n",
       "      <th>budget_adj</th>\n",
       "      <th>revenue_adj</th>\n",
       "      <th>release_month</th>\n",
       "    </tr>\n",
       "    <tr>\n",
       "      <th>imdb_id</th>\n",
       "      <th></th>\n",
       "      <th></th>\n",
       "      <th></th>\n",
       "      <th></th>\n",
       "      <th></th>\n",
       "      <th></th>\n",
       "      <th></th>\n",
       "      <th></th>\n",
       "      <th></th>\n",
       "      <th></th>\n",
       "      <th></th>\n",
       "      <th></th>\n",
       "      <th></th>\n",
       "      <th></th>\n",
       "      <th></th>\n",
       "      <th></th>\n",
       "      <th></th>\n",
       "      <th></th>\n",
       "      <th></th>\n",
       "      <th></th>\n",
       "      <th></th>\n",
       "    </tr>\n",
       "  </thead>\n",
       "  <tbody>\n",
       "    <tr>\n",
       "      <th>tt0369610</th>\n",
       "      <td>135397</td>\n",
       "      <td>32.985763</td>\n",
       "      <td>150000000</td>\n",
       "      <td>1513528810</td>\n",
       "      <td>Jurassic World</td>\n",
       "      <td>[Chris Pratt, Bryce Dallas Howard, Irrfan Khan...</td>\n",
       "      <td>http://www.jurassicworld.com/</td>\n",
       "      <td>Colin Trevorrow</td>\n",
       "      <td>The park is open.</td>\n",
       "      <td>[monster, dna, tyrannosaurus rex, velociraptor...</td>\n",
       "      <td>...</td>\n",
       "      <td>124</td>\n",
       "      <td>[Action, Adventure, Science Fiction, Thriller]</td>\n",
       "      <td>[Universal Studios, Amblin Entertainment, Lege...</td>\n",
       "      <td>2015-06-09</td>\n",
       "      <td>5562</td>\n",
       "      <td>6.5</td>\n",
       "      <td>2015</td>\n",
       "      <td>1.379999e+08</td>\n",
       "      <td>1.392446e+09</td>\n",
       "      <td>6</td>\n",
       "    </tr>\n",
       "    <tr>\n",
       "      <th>tt1392190</th>\n",
       "      <td>76341</td>\n",
       "      <td>28.419936</td>\n",
       "      <td>150000000</td>\n",
       "      <td>378436354</td>\n",
       "      <td>Mad Max: Fury Road</td>\n",
       "      <td>[Tom Hardy, Charlize Theron, Hugh Keays-Byrne,...</td>\n",
       "      <td>http://www.madmaxmovie.com/</td>\n",
       "      <td>George Miller</td>\n",
       "      <td>What a Lovely Day.</td>\n",
       "      <td>[future, chase, post-apocalyptic, dystopia, au...</td>\n",
       "      <td>...</td>\n",
       "      <td>120</td>\n",
       "      <td>[Action, Adventure, Science Fiction, Thriller]</td>\n",
       "      <td>[Village Roadshow Pictures, Kennedy Miller Pro...</td>\n",
       "      <td>2015-05-13</td>\n",
       "      <td>6185</td>\n",
       "      <td>7.1</td>\n",
       "      <td>2015</td>\n",
       "      <td>1.379999e+08</td>\n",
       "      <td>3.481613e+08</td>\n",
       "      <td>5</td>\n",
       "    </tr>\n",
       "    <tr>\n",
       "      <th>tt2908446</th>\n",
       "      <td>262500</td>\n",
       "      <td>13.112507</td>\n",
       "      <td>110000000</td>\n",
       "      <td>295238201</td>\n",
       "      <td>Insurgent</td>\n",
       "      <td>[Shailene Woodley, Theo James, Kate Winslet, A...</td>\n",
       "      <td>http://www.thedivergentseries.movie/#insurgent</td>\n",
       "      <td>Robert Schwentke</td>\n",
       "      <td>One Choice Can Destroy You</td>\n",
       "      <td>[based on novel, revolution, dystopia, sequel,...</td>\n",
       "      <td>...</td>\n",
       "      <td>119</td>\n",
       "      <td>[Adventure, Science Fiction, Thriller]</td>\n",
       "      <td>[Summit Entertainment, Mandeville Films, Red W...</td>\n",
       "      <td>2015-03-18</td>\n",
       "      <td>2480</td>\n",
       "      <td>6.3</td>\n",
       "      <td>2015</td>\n",
       "      <td>1.012000e+08</td>\n",
       "      <td>2.716190e+08</td>\n",
       "      <td>3</td>\n",
       "    </tr>\n",
       "    <tr>\n",
       "      <th>tt2488496</th>\n",
       "      <td>140607</td>\n",
       "      <td>11.173104</td>\n",
       "      <td>200000000</td>\n",
       "      <td>2068178225</td>\n",
       "      <td>Star Wars: The Force Awakens</td>\n",
       "      <td>[Harrison Ford, Mark Hamill, Carrie Fisher, Ad...</td>\n",
       "      <td>http://www.starwars.com/films/star-wars-episod...</td>\n",
       "      <td>J.J. Abrams</td>\n",
       "      <td>Every generation has a story.</td>\n",
       "      <td>[android, spaceship, jedi, space opera, 3d]</td>\n",
       "      <td>...</td>\n",
       "      <td>136</td>\n",
       "      <td>[Action, Adventure, Science Fiction, Fantasy]</td>\n",
       "      <td>[Lucasfilm, Truenorth Productions, Bad Robot]</td>\n",
       "      <td>2015-12-15</td>\n",
       "      <td>5292</td>\n",
       "      <td>7.5</td>\n",
       "      <td>2015</td>\n",
       "      <td>1.839999e+08</td>\n",
       "      <td>1.902723e+09</td>\n",
       "      <td>12</td>\n",
       "    </tr>\n",
       "    <tr>\n",
       "      <th>tt2820852</th>\n",
       "      <td>168259</td>\n",
       "      <td>9.335014</td>\n",
       "      <td>190000000</td>\n",
       "      <td>1506249360</td>\n",
       "      <td>Furious 7</td>\n",
       "      <td>[Vin Diesel, Paul Walker, Jason Statham, Miche...</td>\n",
       "      <td>http://www.furious7.com/</td>\n",
       "      <td>James Wan</td>\n",
       "      <td>Vengeance Hits Home</td>\n",
       "      <td>[car race, speed, revenge, suspense, car]</td>\n",
       "      <td>...</td>\n",
       "      <td>137</td>\n",
       "      <td>[Action, Crime, Thriller]</td>\n",
       "      <td>[Universal Pictures, Original Film, Media Righ...</td>\n",
       "      <td>2015-04-01</td>\n",
       "      <td>2947</td>\n",
       "      <td>7.3</td>\n",
       "      <td>2015</td>\n",
       "      <td>1.747999e+08</td>\n",
       "      <td>1.385749e+09</td>\n",
       "      <td>4</td>\n",
       "    </tr>\n",
       "  </tbody>\n",
       "</table>\n",
       "<p>5 rows × 21 columns</p>\n",
       "</div>"
      ],
      "text/plain": [
       "               id  popularity     budget     revenue  \\\n",
       "imdb_id                                                \n",
       "tt0369610  135397   32.985763  150000000  1513528810   \n",
       "tt1392190   76341   28.419936  150000000   378436354   \n",
       "tt2908446  262500   13.112507  110000000   295238201   \n",
       "tt2488496  140607   11.173104  200000000  2068178225   \n",
       "tt2820852  168259    9.335014  190000000  1506249360   \n",
       "\n",
       "                         original_title  \\\n",
       "imdb_id                                   \n",
       "tt0369610                Jurassic World   \n",
       "tt1392190            Mad Max: Fury Road   \n",
       "tt2908446                     Insurgent   \n",
       "tt2488496  Star Wars: The Force Awakens   \n",
       "tt2820852                     Furious 7   \n",
       "\n",
       "                                                        cast  \\\n",
       "imdb_id                                                        \n",
       "tt0369610  [Chris Pratt, Bryce Dallas Howard, Irrfan Khan...   \n",
       "tt1392190  [Tom Hardy, Charlize Theron, Hugh Keays-Byrne,...   \n",
       "tt2908446  [Shailene Woodley, Theo James, Kate Winslet, A...   \n",
       "tt2488496  [Harrison Ford, Mark Hamill, Carrie Fisher, Ad...   \n",
       "tt2820852  [Vin Diesel, Paul Walker, Jason Statham, Miche...   \n",
       "\n",
       "                                                    homepage  \\\n",
       "imdb_id                                                        \n",
       "tt0369610                      http://www.jurassicworld.com/   \n",
       "tt1392190                        http://www.madmaxmovie.com/   \n",
       "tt2908446     http://www.thedivergentseries.movie/#insurgent   \n",
       "tt2488496  http://www.starwars.com/films/star-wars-episod...   \n",
       "tt2820852                           http://www.furious7.com/   \n",
       "\n",
       "                   director                        tagline  \\\n",
       "imdb_id                                                      \n",
       "tt0369610   Colin Trevorrow              The park is open.   \n",
       "tt1392190     George Miller             What a Lovely Day.   \n",
       "tt2908446  Robert Schwentke     One Choice Can Destroy You   \n",
       "tt2488496       J.J. Abrams  Every generation has a story.   \n",
       "tt2820852         James Wan            Vengeance Hits Home   \n",
       "\n",
       "                                                    keywords  ... runtime  \\\n",
       "imdb_id                                                       ...           \n",
       "tt0369610  [monster, dna, tyrannosaurus rex, velociraptor...  ...     124   \n",
       "tt1392190  [future, chase, post-apocalyptic, dystopia, au...  ...     120   \n",
       "tt2908446  [based on novel, revolution, dystopia, sequel,...  ...     119   \n",
       "tt2488496        [android, spaceship, jedi, space opera, 3d]  ...     136   \n",
       "tt2820852          [car race, speed, revenge, suspense, car]  ...     137   \n",
       "\n",
       "                                                   genres  \\\n",
       "imdb_id                                                     \n",
       "tt0369610  [Action, Adventure, Science Fiction, Thriller]   \n",
       "tt1392190  [Action, Adventure, Science Fiction, Thriller]   \n",
       "tt2908446          [Adventure, Science Fiction, Thriller]   \n",
       "tt2488496   [Action, Adventure, Science Fiction, Fantasy]   \n",
       "tt2820852                       [Action, Crime, Thriller]   \n",
       "\n",
       "                                        production_companies release_date  \\\n",
       "imdb_id                                                                     \n",
       "tt0369610  [Universal Studios, Amblin Entertainment, Lege...   2015-06-09   \n",
       "tt1392190  [Village Roadshow Pictures, Kennedy Miller Pro...   2015-05-13   \n",
       "tt2908446  [Summit Entertainment, Mandeville Films, Red W...   2015-03-18   \n",
       "tt2488496      [Lucasfilm, Truenorth Productions, Bad Robot]   2015-12-15   \n",
       "tt2820852  [Universal Pictures, Original Film, Media Righ...   2015-04-01   \n",
       "\n",
       "          vote_count  vote_average  release_year    budget_adj   revenue_adj  \\\n",
       "imdb_id                                                                        \n",
       "tt0369610       5562           6.5          2015  1.379999e+08  1.392446e+09   \n",
       "tt1392190       6185           7.1          2015  1.379999e+08  3.481613e+08   \n",
       "tt2908446       2480           6.3          2015  1.012000e+08  2.716190e+08   \n",
       "tt2488496       5292           7.5          2015  1.839999e+08  1.902723e+09   \n",
       "tt2820852       2947           7.3          2015  1.747999e+08  1.385749e+09   \n",
       "\n",
       "           release_month  \n",
       "imdb_id                   \n",
       "tt0369610              6  \n",
       "tt1392190              5  \n",
       "tt2908446              3  \n",
       "tt2488496             12  \n",
       "tt2820852              4  \n",
       "\n",
       "[5 rows x 21 columns]"
      ]
     },
     "execution_count": 81,
     "metadata": {},
     "output_type": "execute_result"
    }
   ],
   "source": [
    "# Set the index to the \"imdb_id\" column instead and print out the first five records to confirm\n",
    "\n",
    "movieList = movieList.set_index('imdb_id')\n",
    "movieList.head()"
   ]
  },
  {
   "cell_type": "code",
   "execution_count": 82,
   "metadata": {},
   "outputs": [
    {
     "data": {
      "text/plain": [
       "id                                                                 140607\n",
       "popularity                                                        11.1731\n",
       "budget                                                          200000000\n",
       "revenue                                                        2068178225\n",
       "original_title                               Star Wars: The Force Awakens\n",
       "cast                    [Harrison Ford, Mark Hamill, Carrie Fisher, Ad...\n",
       "homepage                http://www.starwars.com/films/star-wars-episod...\n",
       "director                                                      J.J. Abrams\n",
       "tagline                                     Every generation has a story.\n",
       "keywords                      [android, spaceship, jedi, space opera, 3d]\n",
       "overview                Thirty years after defeating the Galactic Empi...\n",
       "runtime                                                               136\n",
       "genres                      [Action, Adventure, Science Fiction, Fantasy]\n",
       "production_companies        [Lucasfilm, Truenorth Productions, Bad Robot]\n",
       "release_date                                          2015-12-15 00:00:00\n",
       "vote_count                                                           5292\n",
       "vote_average                                                          7.5\n",
       "release_year                                                         2015\n",
       "budget_adj                                                       1.84e+08\n",
       "revenue_adj                                                   1.90272e+09\n",
       "release_month                                                          12\n",
       "Name: tt2488496, dtype: object"
      ]
     },
     "execution_count": 82,
     "metadata": {},
     "output_type": "execute_result"
    }
   ],
   "source": [
    "# Test that id is working\n",
    "\n",
    "movieList.loc['tt2488496']"
   ]
  },
  {
   "cell_type": "markdown",
   "metadata": {},
   "source": [
    "### Cleanup Done\n",
    "The data is now cleaned up. I have removed null values and 0 values. I have adjusted data types and set a new index.\n",
    "I am now ready to start exploring the data directly."
   ]
  },
  {
   "cell_type": "code",
   "execution_count": 83,
   "metadata": {},
   "outputs": [
    {
     "data": {
      "text/html": [
       "<div>\n",
       "<style scoped>\n",
       "    .dataframe tbody tr th:only-of-type {\n",
       "        vertical-align: middle;\n",
       "    }\n",
       "\n",
       "    .dataframe tbody tr th {\n",
       "        vertical-align: top;\n",
       "    }\n",
       "\n",
       "    .dataframe thead th {\n",
       "        text-align: right;\n",
       "    }\n",
       "</style>\n",
       "<table border=\"1\" class=\"dataframe\">\n",
       "  <thead>\n",
       "    <tr style=\"text-align: right;\">\n",
       "      <th></th>\n",
       "      <th>id</th>\n",
       "      <th>popularity</th>\n",
       "      <th>budget</th>\n",
       "      <th>revenue</th>\n",
       "      <th>runtime</th>\n",
       "      <th>vote_count</th>\n",
       "      <th>vote_average</th>\n",
       "      <th>release_year</th>\n",
       "      <th>budget_adj</th>\n",
       "      <th>revenue_adj</th>\n",
       "      <th>release_month</th>\n",
       "    </tr>\n",
       "  </thead>\n",
       "  <tbody>\n",
       "    <tr>\n",
       "      <th>count</th>\n",
       "      <td>3784.000000</td>\n",
       "      <td>3784.000000</td>\n",
       "      <td>3.784000e+03</td>\n",
       "      <td>3.784000e+03</td>\n",
       "      <td>3784.000000</td>\n",
       "      <td>3784.000000</td>\n",
       "      <td>3784.000000</td>\n",
       "      <td>3784.000000</td>\n",
       "      <td>3.784000e+03</td>\n",
       "      <td>3.784000e+03</td>\n",
       "      <td>3784.000000</td>\n",
       "    </tr>\n",
       "    <tr>\n",
       "      <th>mean</th>\n",
       "      <td>40508.202167</td>\n",
       "      <td>1.195320</td>\n",
       "      <td>3.777900e+07</td>\n",
       "      <td>1.089113e+08</td>\n",
       "      <td>108.763214</td>\n",
       "      <td>532.996300</td>\n",
       "      <td>6.156158</td>\n",
       "      <td>2001.951903</td>\n",
       "      <td>4.424303e+07</td>\n",
       "      <td>1.343809e+08</td>\n",
       "      <td>7.024049</td>\n",
       "    </tr>\n",
       "    <tr>\n",
       "      <th>std</th>\n",
       "      <td>67676.711152</td>\n",
       "      <td>1.484215</td>\n",
       "      <td>4.237651e+07</td>\n",
       "      <td>1.778175e+08</td>\n",
       "      <td>19.325993</td>\n",
       "      <td>886.194038</td>\n",
       "      <td>0.792860</td>\n",
       "      <td>10.186722</td>\n",
       "      <td>4.487643e+07</td>\n",
       "      <td>2.126691e+08</td>\n",
       "      <td>3.362291</td>\n",
       "    </tr>\n",
       "    <tr>\n",
       "      <th>min</th>\n",
       "      <td>5.000000</td>\n",
       "      <td>0.001117</td>\n",
       "      <td>1.000000e+00</td>\n",
       "      <td>2.000000e+00</td>\n",
       "      <td>15.000000</td>\n",
       "      <td>10.000000</td>\n",
       "      <td>2.200000</td>\n",
       "      <td>1970.000000</td>\n",
       "      <td>9.693980e-01</td>\n",
       "      <td>2.370705e+00</td>\n",
       "      <td>1.000000</td>\n",
       "    </tr>\n",
       "    <tr>\n",
       "      <th>25%</th>\n",
       "      <td>6675.000000</td>\n",
       "      <td>0.463467</td>\n",
       "      <td>1.000000e+07</td>\n",
       "      <td>1.386258e+07</td>\n",
       "      <td>95.000000</td>\n",
       "      <td>72.000000</td>\n",
       "      <td>5.600000</td>\n",
       "      <td>1996.000000</td>\n",
       "      <td>1.298003e+07</td>\n",
       "      <td>1.792320e+07</td>\n",
       "      <td>4.000000</td>\n",
       "    </tr>\n",
       "    <tr>\n",
       "      <th>50%</th>\n",
       "      <td>11376.000000</td>\n",
       "      <td>0.799519</td>\n",
       "      <td>2.500000e+07</td>\n",
       "      <td>4.570828e+07</td>\n",
       "      <td>105.000000</td>\n",
       "      <td>206.000000</td>\n",
       "      <td>6.200000</td>\n",
       "      <td>2004.000000</td>\n",
       "      <td>3.002841e+07</td>\n",
       "      <td>6.032400e+07</td>\n",
       "      <td>7.000000</td>\n",
       "    </tr>\n",
       "    <tr>\n",
       "      <th>75%</th>\n",
       "      <td>39785.750000</td>\n",
       "      <td>1.374400</td>\n",
       "      <td>5.000000e+07</td>\n",
       "      <td>1.262249e+08</td>\n",
       "      <td>119.000000</td>\n",
       "      <td>583.250000</td>\n",
       "      <td>6.700000</td>\n",
       "      <td>2010.000000</td>\n",
       "      <td>6.076720e+07</td>\n",
       "      <td>1.599225e+08</td>\n",
       "      <td>10.000000</td>\n",
       "    </tr>\n",
       "    <tr>\n",
       "      <th>max</th>\n",
       "      <td>417859.000000</td>\n",
       "      <td>32.985763</td>\n",
       "      <td>4.250000e+08</td>\n",
       "      <td>2.781506e+09</td>\n",
       "      <td>338.000000</td>\n",
       "      <td>9767.000000</td>\n",
       "      <td>8.400000</td>\n",
       "      <td>2015.000000</td>\n",
       "      <td>4.250000e+08</td>\n",
       "      <td>2.827124e+09</td>\n",
       "      <td>12.000000</td>\n",
       "    </tr>\n",
       "  </tbody>\n",
       "</table>\n",
       "</div>"
      ],
      "text/plain": [
       "                  id   popularity        budget       revenue      runtime  \\\n",
       "count    3784.000000  3784.000000  3.784000e+03  3.784000e+03  3784.000000   \n",
       "mean    40508.202167     1.195320  3.777900e+07  1.089113e+08   108.763214   \n",
       "std     67676.711152     1.484215  4.237651e+07  1.778175e+08    19.325993   \n",
       "min         5.000000     0.001117  1.000000e+00  2.000000e+00    15.000000   \n",
       "25%      6675.000000     0.463467  1.000000e+07  1.386258e+07    95.000000   \n",
       "50%     11376.000000     0.799519  2.500000e+07  4.570828e+07   105.000000   \n",
       "75%     39785.750000     1.374400  5.000000e+07  1.262249e+08   119.000000   \n",
       "max    417859.000000    32.985763  4.250000e+08  2.781506e+09   338.000000   \n",
       "\n",
       "        vote_count  vote_average  release_year    budget_adj   revenue_adj  \\\n",
       "count  3784.000000   3784.000000   3784.000000  3.784000e+03  3.784000e+03   \n",
       "mean    532.996300      6.156158   2001.951903  4.424303e+07  1.343809e+08   \n",
       "std     886.194038      0.792860     10.186722  4.487643e+07  2.126691e+08   \n",
       "min      10.000000      2.200000   1970.000000  9.693980e-01  2.370705e+00   \n",
       "25%      72.000000      5.600000   1996.000000  1.298003e+07  1.792320e+07   \n",
       "50%     206.000000      6.200000   2004.000000  3.002841e+07  6.032400e+07   \n",
       "75%     583.250000      6.700000   2010.000000  6.076720e+07  1.599225e+08   \n",
       "max    9767.000000      8.400000   2015.000000  4.250000e+08  2.827124e+09   \n",
       "\n",
       "       release_month  \n",
       "count    3784.000000  \n",
       "mean        7.024049  \n",
       "std         3.362291  \n",
       "min         1.000000  \n",
       "25%         4.000000  \n",
       "50%         7.000000  \n",
       "75%        10.000000  \n",
       "max        12.000000  "
      ]
     },
     "execution_count": 83,
     "metadata": {},
     "output_type": "execute_result"
    }
   ],
   "source": [
    "# Overview of general statistics for each numbered column\n",
    "\n",
    "movieList.describe()"
   ]
  },
  {
   "cell_type": "markdown",
   "metadata": {},
   "source": [
    "<a id='eda'></a>\n",
    "## Exploratory Data Analysis"
   ]
  },
  {
   "cell_type": "code",
   "execution_count": 84,
   "metadata": {},
   "outputs": [
    {
     "data": {
      "text/html": [
       "<div>\n",
       "<style scoped>\n",
       "    .dataframe tbody tr th:only-of-type {\n",
       "        vertical-align: middle;\n",
       "    }\n",
       "\n",
       "    .dataframe tbody tr th {\n",
       "        vertical-align: top;\n",
       "    }\n",
       "\n",
       "    .dataframe thead th {\n",
       "        text-align: right;\n",
       "    }\n",
       "</style>\n",
       "<table border=\"1\" class=\"dataframe\">\n",
       "  <thead>\n",
       "    <tr style=\"text-align: right;\">\n",
       "      <th></th>\n",
       "      <th>id</th>\n",
       "      <th>popularity</th>\n",
       "      <th>budget</th>\n",
       "      <th>revenue</th>\n",
       "      <th>runtime</th>\n",
       "      <th>vote_count</th>\n",
       "      <th>vote_average</th>\n",
       "      <th>release_year</th>\n",
       "      <th>budget_adj</th>\n",
       "      <th>revenue_adj</th>\n",
       "      <th>release_month</th>\n",
       "    </tr>\n",
       "  </thead>\n",
       "  <tbody>\n",
       "    <tr>\n",
       "      <th>id</th>\n",
       "      <td>1.000000</td>\n",
       "      <td>0.188943</td>\n",
       "      <td>-0.034451</td>\n",
       "      <td>-0.006696</td>\n",
       "      <td>-0.025509</td>\n",
       "      <td>0.109157</td>\n",
       "      <td>0.006844</td>\n",
       "      <td>0.515377</td>\n",
       "      <td>-0.125515</td>\n",
       "      <td>-0.084410</td>\n",
       "      <td>0.017440</td>\n",
       "    </tr>\n",
       "    <tr>\n",
       "      <th>popularity</th>\n",
       "      <td>0.188943</td>\n",
       "      <td>1.000000</td>\n",
       "      <td>0.448885</td>\n",
       "      <td>0.615949</td>\n",
       "      <td>0.231476</td>\n",
       "      <td>0.780303</td>\n",
       "      <td>0.322117</td>\n",
       "      <td>0.184613</td>\n",
       "      <td>0.404614</td>\n",
       "      <td>0.554573</td>\n",
       "      <td>0.032106</td>\n",
       "    </tr>\n",
       "    <tr>\n",
       "      <th>budget</th>\n",
       "      <td>-0.034451</td>\n",
       "      <td>0.448885</td>\n",
       "      <td>1.000000</td>\n",
       "      <td>0.688190</td>\n",
       "      <td>0.287131</td>\n",
       "      <td>0.556617</td>\n",
       "      <td>0.036158</td>\n",
       "      <td>0.251038</td>\n",
       "      <td>0.968461</td>\n",
       "      <td>0.558523</td>\n",
       "      <td>0.034475</td>\n",
       "    </tr>\n",
       "    <tr>\n",
       "      <th>revenue</th>\n",
       "      <td>-0.006696</td>\n",
       "      <td>0.615949</td>\n",
       "      <td>0.688190</td>\n",
       "      <td>1.000000</td>\n",
       "      <td>0.270304</td>\n",
       "      <td>0.754500</td>\n",
       "      <td>0.235721</td>\n",
       "      <td>0.129677</td>\n",
       "      <td>0.663147</td>\n",
       "      <td>0.923029</td>\n",
       "      <td>0.038681</td>\n",
       "    </tr>\n",
       "    <tr>\n",
       "      <th>runtime</th>\n",
       "      <td>-0.025509</td>\n",
       "      <td>0.231476</td>\n",
       "      <td>0.287131</td>\n",
       "      <td>0.270304</td>\n",
       "      <td>1.000000</td>\n",
       "      <td>0.295018</td>\n",
       "      <td>0.355994</td>\n",
       "      <td>-0.043957</td>\n",
       "      <td>0.329286</td>\n",
       "      <td>0.284636</td>\n",
       "      <td>0.172821</td>\n",
       "    </tr>\n",
       "    <tr>\n",
       "      <th>vote_count</th>\n",
       "      <td>0.109157</td>\n",
       "      <td>0.780303</td>\n",
       "      <td>0.556617</td>\n",
       "      <td>0.754500</td>\n",
       "      <td>0.295018</td>\n",
       "      <td>1.000000</td>\n",
       "      <td>0.395165</td>\n",
       "      <td>0.209729</td>\n",
       "      <td>0.503397</td>\n",
       "      <td>0.671935</td>\n",
       "      <td>0.015886</td>\n",
       "    </tr>\n",
       "    <tr>\n",
       "      <th>vote_average</th>\n",
       "      <td>0.006844</td>\n",
       "      <td>0.322117</td>\n",
       "      <td>0.036158</td>\n",
       "      <td>0.235721</td>\n",
       "      <td>0.355994</td>\n",
       "      <td>0.395165</td>\n",
       "      <td>1.000000</td>\n",
       "      <td>-0.097447</td>\n",
       "      <td>0.041574</td>\n",
       "      <td>0.264803</td>\n",
       "      <td>0.122153</td>\n",
       "    </tr>\n",
       "    <tr>\n",
       "      <th>release_year</th>\n",
       "      <td>0.515377</td>\n",
       "      <td>0.184613</td>\n",
       "      <td>0.251038</td>\n",
       "      <td>0.129677</td>\n",
       "      <td>-0.043957</td>\n",
       "      <td>0.209729</td>\n",
       "      <td>-0.097447</td>\n",
       "      <td>1.000000</td>\n",
       "      <td>0.083668</td>\n",
       "      <td>-0.073214</td>\n",
       "      <td>-0.065614</td>\n",
       "    </tr>\n",
       "    <tr>\n",
       "      <th>budget_adj</th>\n",
       "      <td>-0.125515</td>\n",
       "      <td>0.404614</td>\n",
       "      <td>0.968461</td>\n",
       "      <td>0.663147</td>\n",
       "      <td>0.329286</td>\n",
       "      <td>0.503397</td>\n",
       "      <td>0.041574</td>\n",
       "      <td>0.083668</td>\n",
       "      <td>1.000000</td>\n",
       "      <td>0.585109</td>\n",
       "      <td>0.059286</td>\n",
       "    </tr>\n",
       "    <tr>\n",
       "      <th>revenue_adj</th>\n",
       "      <td>-0.084410</td>\n",
       "      <td>0.554573</td>\n",
       "      <td>0.558523</td>\n",
       "      <td>0.923029</td>\n",
       "      <td>0.284636</td>\n",
       "      <td>0.671935</td>\n",
       "      <td>0.264803</td>\n",
       "      <td>-0.073214</td>\n",
       "      <td>0.585109</td>\n",
       "      <td>1.000000</td>\n",
       "      <td>0.054347</td>\n",
       "    </tr>\n",
       "    <tr>\n",
       "      <th>release_month</th>\n",
       "      <td>0.017440</td>\n",
       "      <td>0.032106</td>\n",
       "      <td>0.034475</td>\n",
       "      <td>0.038681</td>\n",
       "      <td>0.172821</td>\n",
       "      <td>0.015886</td>\n",
       "      <td>0.122153</td>\n",
       "      <td>-0.065614</td>\n",
       "      <td>0.059286</td>\n",
       "      <td>0.054347</td>\n",
       "      <td>1.000000</td>\n",
       "    </tr>\n",
       "  </tbody>\n",
       "</table>\n",
       "</div>"
      ],
      "text/plain": [
       "                     id  popularity    budget   revenue   runtime  vote_count  \\\n",
       "id             1.000000    0.188943 -0.034451 -0.006696 -0.025509    0.109157   \n",
       "popularity     0.188943    1.000000  0.448885  0.615949  0.231476    0.780303   \n",
       "budget        -0.034451    0.448885  1.000000  0.688190  0.287131    0.556617   \n",
       "revenue       -0.006696    0.615949  0.688190  1.000000  0.270304    0.754500   \n",
       "runtime       -0.025509    0.231476  0.287131  0.270304  1.000000    0.295018   \n",
       "vote_count     0.109157    0.780303  0.556617  0.754500  0.295018    1.000000   \n",
       "vote_average   0.006844    0.322117  0.036158  0.235721  0.355994    0.395165   \n",
       "release_year   0.515377    0.184613  0.251038  0.129677 -0.043957    0.209729   \n",
       "budget_adj    -0.125515    0.404614  0.968461  0.663147  0.329286    0.503397   \n",
       "revenue_adj   -0.084410    0.554573  0.558523  0.923029  0.284636    0.671935   \n",
       "release_month  0.017440    0.032106  0.034475  0.038681  0.172821    0.015886   \n",
       "\n",
       "               vote_average  release_year  budget_adj  revenue_adj  \\\n",
       "id                 0.006844      0.515377   -0.125515    -0.084410   \n",
       "popularity         0.322117      0.184613    0.404614     0.554573   \n",
       "budget             0.036158      0.251038    0.968461     0.558523   \n",
       "revenue            0.235721      0.129677    0.663147     0.923029   \n",
       "runtime            0.355994     -0.043957    0.329286     0.284636   \n",
       "vote_count         0.395165      0.209729    0.503397     0.671935   \n",
       "vote_average       1.000000     -0.097447    0.041574     0.264803   \n",
       "release_year      -0.097447      1.000000    0.083668    -0.073214   \n",
       "budget_adj         0.041574      0.083668    1.000000     0.585109   \n",
       "revenue_adj        0.264803     -0.073214    0.585109     1.000000   \n",
       "release_month      0.122153     -0.065614    0.059286     0.054347   \n",
       "\n",
       "               release_month  \n",
       "id                  0.017440  \n",
       "popularity          0.032106  \n",
       "budget              0.034475  \n",
       "revenue             0.038681  \n",
       "runtime             0.172821  \n",
       "vote_count          0.015886  \n",
       "vote_average        0.122153  \n",
       "release_year       -0.065614  \n",
       "budget_adj          0.059286  \n",
       "revenue_adj         0.054347  \n",
       "release_month       1.000000  "
      ]
     },
     "execution_count": 84,
     "metadata": {},
     "output_type": "execute_result"
    }
   ],
   "source": [
    "# Use pandas \"corr\" function to see what columns correlate well with one another\n",
    "\n",
    "correlation = movieList.corr(method=\"pearson\")\n",
    "correlation"
   ]
  },
  {
   "cell_type": "markdown",
   "metadata": {},
   "source": [
    "I've noticed the following high correlations:\n",
    "- \"budget_adj\" with \"budget\"  This makes sense because the \"budget_adj\" column is derived directly from \"budget\".\n",
    "- \"revenue_adj\" with \"revenue\"  This makes sense because the \"revenue_adj\" column is derived directly from \"revenue\".\n",
    "- \"revenue_adj\" with \"budget\"  This value is somewhat high, and is one of the questions that I want to dig into more."
   ]
  },
  {
   "cell_type": "code",
   "execution_count": 85,
   "metadata": {},
   "outputs": [
    {
     "data": {
      "image/png": "[encoded data removed]",
      "text/plain": [
       "<Figure size 432x288 with 2 Axes>"
      ]
     },
     "metadata": {
      "needs_background": "light"
     },
     "output_type": "display_data"
    }
   ],
   "source": [
    "# Heatmap from Seaborn of correlation data from above\n",
    "\n",
    "sns.heatmap(correlation, annot=False)\n",
    "plt.show()"
   ]
  },
  {
   "cell_type": "markdown",
   "metadata": {},
   "source": [
    "I removed the annotations in order to avoid clutter. The color values seem to be sufficient to help look for possible correlations."
   ]
  },
  {
   "cell_type": "markdown",
   "metadata": {},
   "source": [
    "### Does a Higher Budget Correlate to Higher Popularity?"
   ]
  },
  {
   "cell_type": "code",
   "execution_count": 86,
   "metadata": {},
   "outputs": [],
   "source": [
    "# Function to calculate correlation\n",
    "\n",
    "def correlate(x, y):\n",
    "    std_x = (x - x.mean()) / x.std(ddof=0)\n",
    "    std_y = (y - y.mean()) / y.std(ddof=0)\n",
    "    \n",
    "    print('Correlation: ',(std_x * std_y).mean())"
   ]
  },
  {
   "cell_type": "code",
   "execution_count": 87,
   "metadata": {},
   "outputs": [
    {
     "name": "stdout",
     "output_type": "stream",
     "text": [
      "Correlation:  0.9684612836743883\n"
     ]
    }
   ],
   "source": [
    "# Test out function to make sure that it works properly\n",
    "\n",
    "correlate(movieList['budget'], movieList['budget_adj'])"
   ]
  },
  {
   "cell_type": "markdown",
   "metadata": {},
   "source": [
    "I wanted to make sure that my function was working properly to calculate correlation. I tested this out with checking the correlation\n",
    "between \"budget\" and \"budget_adj\", since, as mentioned before, the \"budget_adj\" value is derived from \"budget\"."
   ]
  },
  {
   "cell_type": "code",
   "execution_count": 88,
   "metadata": {},
   "outputs": [
    {
     "name": "stdout",
     "output_type": "stream",
     "text": [
      "Correlation:  0.4046142403197343\n"
     ]
    }
   ],
   "source": [
    "# Calculate correlation with budget_adj and popularity\n",
    "\n",
    "correlate(movieList['budget_adj'], movieList['popularity'])"
   ]
  },
  {
   "cell_type": "code",
   "execution_count": 89,
   "metadata": {},
   "outputs": [
    {
     "name": "stdout",
     "output_type": "stream",
     "text": [
      "Min Adjusted Budget:  0.9693980425914721\n",
      "Max Adjusted Budget:  425000000.0\n"
     ]
    }
   ],
   "source": [
    "# Determine min and max values for budget_adj\n",
    "\n",
    "min_budget = movieList['budget_adj'].min()\n",
    "max_budget = movieList['budget_adj'].max()\n",
    "\n",
    "print('Min Adjusted Budget: ', min_budget)\n",
    "print('Max Adjusted Budget: ', max_budget)"
   ]
  },
  {
   "cell_type": "markdown",
   "metadata": {},
   "source": [
    "I used the min and max values for budget_adj to determine which buckets to create"
   ]
  },
  {
   "cell_type": "code",
   "execution_count": 90,
   "metadata": {},
   "outputs": [
    {
     "name": "stdout",
     "output_type": "stream",
     "text": [
      "budget_bucket\n",
      "0+       9.868124e+07\n",
      "100M+    3.896372e+08\n",
      "200M+    7.707175e+08\n",
      "300M+    1.000536e+09\n",
      "400M+    1.108757e+07\n",
      "Name: revenue_adj, dtype: float64\n"
     ]
    }
   ],
   "source": [
    "# Create a bucketed version of budget_adj to use for comparison. \n",
    "\n",
    "def budget_bucket(data):\n",
    "    bucket = None\n",
    "    if data < 100000000:\n",
    "        bucket = '0+'\n",
    "    elif data < 200000000:\n",
    "        bucket = '100M+'\n",
    "    elif data < 300000000:\n",
    "        bucket = '200M+'\n",
    "    elif data < 400000000:\n",
    "        bucket = '300M+'\n",
    "    elif data < 500000000:\n",
    "        bucket = '400M+'\n",
    "    return bucket\n",
    "        \n",
    "movieList['budget_bucket'] = movieList['budget_adj'].apply(budget_bucket)\n",
    "\n",
    "budget_bucket_means = movieList.groupby('budget_bucket')['revenue_adj'].mean()\n",
    "print(budget_bucket_means)"
   ]
  },
  {
   "cell_type": "code",
   "execution_count": 91,
   "metadata": {},
   "outputs": [
    {
     "data": {
      "text/plain": [
       "Text(0, 0.5, 'Mean of Popularity')"
      ]
     },
     "execution_count": 91,
     "metadata": {},
     "output_type": "execute_result"
    },
    {
     "data": {
      "image/png": "[encoded data removed]",
      "text/plain": [
       "<Figure size 432x288 with 1 Axes>"
      ]
     },
     "metadata": {
      "needs_background": "light"
     },
     "output_type": "display_data"
    }
   ],
   "source": [
    "# Calculate mean popularity for each budget_bucket\n",
    "\n",
    "budget_pop_means = movieList.groupby('budget_bucket')['popularity'].mean()\n",
    "\n",
    "budget_pop_means.plot()\n",
    "plt.xlabel(\"Budget Bucket\", fontsize=15)\n",
    "plt.ylabel(\"Mean of Popularity\", fontsize=15)"
   ]
  },
  {
   "cell_type": "markdown",
   "metadata": {},
   "source": [
    "While there is not a very high correlation of budget_adj with popularity, you can see a trend. It appears that high budget_adj\n",
    "correlates with higher popularity up to a point. "
   ]
  },
  {
   "cell_type": "markdown",
   "metadata": {},
   "source": [
    "### What are Correlating Factors for Movies that Have the Highest Revenue?"
   ]
  },
  {
   "cell_type": "code",
   "execution_count": 92,
   "metadata": {},
   "outputs": [
    {
     "data": {
      "text/plain": [
       "count    3.784000e+03\n",
       "mean     1.343809e+08\n",
       "std      2.126691e+08\n",
       "min      2.370705e+00\n",
       "25%      1.792320e+07\n",
       "50%      6.032400e+07\n",
       "75%      1.599225e+08\n",
       "max      2.827124e+09\n",
       "Name: revenue_adj, dtype: float64"
      ]
     },
     "execution_count": 92,
     "metadata": {},
     "output_type": "execute_result"
    }
   ],
   "source": [
    "# Calculate statistics about revenue\n",
    "\n",
    "movieList['revenue_adj'].describe()"
   ]
  },
  {
   "cell_type": "code",
   "execution_count": 93,
   "metadata": {},
   "outputs": [
    {
     "data": {
      "text/plain": [
       "Text(0, 0.5, 'Frequency')"
      ]
     },
     "execution_count": 93,
     "metadata": {},
     "output_type": "execute_result"
    },
    {
     "data": {
      "image/png": "[encoded data removed]",
      "text/plain": [
       "<Figure size 432x288 with 1 Axes>"
      ]
     },
     "metadata": {
      "needs_background": "light"
     },
     "output_type": "display_data"
    }
   ],
   "source": [
    "# Histogram of revenue_adj\n",
    "\n",
    "movieList['revenue_adj'].hist(bins='auto')\n",
    "plt.xlabel(\"Adjusted Revenue\", fontsize=15)\n",
    "plt.ylabel(\"Frequency\", fontsize=15)"
   ]
  },
  {
   "cell_type": "markdown",
   "metadata": {},
   "source": [
    "The variance between revenue_adj values is quite high. Now I will be digging into some possible factors."
   ]
  },
  {
   "cell_type": "code",
   "execution_count": 94,
   "metadata": {},
   "outputs": [
    {
     "data": {
      "text/plain": [
       "(1.0, 12.0)"
      ]
     },
     "execution_count": 94,
     "metadata": {},
     "output_type": "execute_result"
    },
    {
     "data": {
      "image/png": "[encoded data removed]",
      "text/plain": [
       "<Figure size 432x288 with 1 Axes>"
      ]
     },
     "metadata": {
      "needs_background": "light"
     },
     "output_type": "display_data"
    }
   ],
   "source": [
    "# Histogram of Release Months\n",
    "\n",
    "movieList['release_month'].hist(bins=[1,2,3,4,5,6,7,8,9,10,11,12])\n",
    "plt.xlabel(\"Release Month\", fontsize=15)\n",
    "plt.ylabel(\"Frequency\", fontsize=15)\n",
    "plt.xlim([1,12])"
   ]
  },
  {
   "cell_type": "markdown",
   "metadata": {},
   "source": [
    "Using the new release_month column I created, I found that movies were released at all times during the year. There were\n",
    "higher instances of releases in October and December; however, this does not tell us anything in and of itself."
   ]
  },
  {
   "cell_type": "code",
   "execution_count": 95,
   "metadata": {},
   "outputs": [
    {
     "data": {
      "text/plain": [
       "Text(0, 0.5, 'Mean of Adjusted Revenue')"
      ]
     },
     "execution_count": 95,
     "metadata": {},
     "output_type": "execute_result"
    },
    {
     "data": {
      "image/png": "[encoded data removed]",
      "text/plain": [
       "<Figure size 432x288 with 1 Axes>"
      ]
     },
     "metadata": {
      "needs_background": "light"
     },
     "output_type": "display_data"
    }
   ],
   "source": [
    "# Calculate mean revenue_adj for each release_month\n",
    "\n",
    "monthMeans = movieList.groupby('release_month')['revenue_adj'].mean()\n",
    "\n",
    "monthMeans.plot()\n",
    "plt.xlabel(\"Release Month\", fontsize=15)\n",
    "plt.ylabel(\"Mean of Adjusted Revenue\", fontsize=15)"
   ]
  },
  {
   "cell_type": "markdown",
   "metadata": {},
   "source": [
    "I then took the release_month and found the mean of revenue_adj for each month. There do appear to be spikes in revenue\n",
    "in the months of May/June/July and November/December. "
   ]
  },
  {
   "cell_type": "code",
   "execution_count": 96,
   "metadata": {},
   "outputs": [
    {
     "name": "stdout",
     "output_type": "stream",
     "text": [
      "Correlation:  0.5851085454604296\n"
     ]
    }
   ],
   "source": [
    "# Calculate correlation with budget_adj and revenue_adj\n",
    "\n",
    "correlate(movieList['budget_adj'], movieList['revenue_adj'])"
   ]
  },
  {
   "cell_type": "markdown",
   "metadata": {},
   "source": [
    "There appears to be a slight correlation between a higher budget_adj and a higher revenue_adj. This is not enough to indicate causation though."
   ]
  },
  {
   "cell_type": "code",
   "execution_count": 97,
   "metadata": {},
   "outputs": [
    {
     "data": {
      "text/plain": [
       "Text(0, 0.5, 'Frequency')"
      ]
     },
     "execution_count": 97,
     "metadata": {},
     "output_type": "execute_result"
    },
    {
     "data": {
      "image/png": "[encoded data removed]",
      "text/plain": [
       "<Figure size 432x288 with 1 Axes>"
      ]
     },
     "metadata": {
      "needs_background": "light"
     },
     "output_type": "display_data"
    }
   ],
   "source": [
    "# Histogram of budgetj_adj\n",
    "\n",
    "movieList['budget_adj'].hist(bins='auto')\n",
    "plt.xlabel(\"Budget Adjusted\", fontsize=15)\n",
    "plt.ylabel(\"Frequency\", fontsize=15)"
   ]
  },
  {
   "cell_type": "markdown",
   "metadata": {},
   "source": [
    "There are a lot of possibilities for budget_adj values. "
   ]
  },
  {
   "cell_type": "code",
   "execution_count": 98,
   "metadata": {},
   "outputs": [
    {
     "data": {
      "text/plain": [
       "count    3.784000e+03\n",
       "mean     4.424303e+07\n",
       "std      4.487643e+07\n",
       "min      9.693980e-01\n",
       "25%      1.298003e+07\n",
       "50%      3.002841e+07\n",
       "75%      6.076720e+07\n",
       "max      4.250000e+08\n",
       "Name: budget_adj, dtype: float64"
      ]
     },
     "execution_count": 98,
     "metadata": {},
     "output_type": "execute_result"
    }
   ],
   "source": [
    "# Basic stats for budget_adj\n",
    "\n",
    "movieList['budget_adj'].describe()"
   ]
  },
  {
   "cell_type": "code",
   "execution_count": 99,
   "metadata": {},
   "outputs": [
    {
     "data": {
      "text/plain": [
       "Text(0, 0.5, 'Mean of Adjusted Revenue')"
      ]
     },
     "execution_count": 99,
     "metadata": {},
     "output_type": "execute_result"
    },
    {
     "data": {
      "image/png": "[encoded data removed]",
      "text/plain": [
       "<Figure size 432x288 with 1 Axes>"
      ]
     },
     "metadata": {
      "needs_background": "light"
     },
     "output_type": "display_data"
    }
   ],
   "source": [
    "# Calculate mean revenue_adj for each budget_adj bucket\n",
    "\n",
    "budget_rev_means = movieList.groupby('budget_bucket')['revenue_adj'].mean()\n",
    "\n",
    "budget_rev_means.plot()\n",
    "plt.xlabel(\"Budget Bucket\", fontsize=15)\n",
    "plt.ylabel(\"Mean of Adjusted Revenue\", fontsize=15)"
   ]
  },
  {
   "cell_type": "markdown",
   "metadata": {},
   "source": [
    "Similar to the results for popularity, it appears that a higher budget_adj correlates to a higher revenue_adj, up to a certain point. "
   ]
  },
  {
   "cell_type": "code",
   "execution_count": 100,
   "metadata": {},
   "outputs": [
    {
     "data": {
      "text/plain": [
       "<matplotlib.collections.PathCollection at 0x7fa4e6988400>"
      ]
     },
     "execution_count": 100,
     "metadata": {},
     "output_type": "execute_result"
    },
    {
     "data": {
      "image/png": "[encoded data removed]",
      "text/plain": [
       "<Figure size 432x288 with 1 Axes>"
      ]
     },
     "metadata": {
      "needs_background": "light"
     },
     "output_type": "display_data"
    }
   ],
   "source": [
    "# Scatterplot to look at release date and budget impacting revenue\n",
    "\n",
    "scaled_revenue = (movieList['revenue_adj'] / movieList['revenue_adj'].std())\n",
    "\n",
    "plt.scatter(movieList.release_date, movieList.budget_adj, s=scaled_revenue)"
   ]
  },
  {
   "cell_type": "markdown",
   "metadata": {},
   "source": [
    "I wanted to see how the combination of release_date and budget_adj contributed to revenue_adj. It appears that there are plenty\n",
    "of higher revenue_adj values with every different combination. "
   ]
  },
  {
   "cell_type": "code",
   "execution_count": 101,
   "metadata": {},
   "outputs": [
    {
     "name": "stdout",
     "output_type": "stream",
     "text": [
      "Correlation:  0.28463612283652895\n"
     ]
    }
   ],
   "source": [
    "# Calculate correlation with runtime and revenue_adj\n",
    "\n",
    "correlate(movieList['runtime'], movieList['revenue_adj'])"
   ]
  },
  {
   "cell_type": "markdown",
   "metadata": {},
   "source": [
    "There is not a strong argument for correlation between a higher runtime and higher revenue_adj.  I did not think that this\n",
    "should be the case, but it's still interesting to look at. Now, I'd like to look at the possibility of correlation between the different runtime buckets and their impact on revenue_adj."
   ]
  },
  {
   "cell_type": "code",
   "execution_count": 102,
   "metadata": {},
   "outputs": [
    {
     "name": "stdout",
     "output_type": "stream",
     "text": [
      "Min Runtime:  15\n",
      "Max Runtime:  338\n"
     ]
    }
   ],
   "source": [
    "# Determine min and max values for runtime\n",
    "\n",
    "min_runtime = movieList['runtime'].min()\n",
    "max_runtime = movieList['runtime'].max()\n",
    "\n",
    "print('Min Runtime: ', min_runtime)\n",
    "print('Max Runtime: ', max_runtime)"
   ]
  },
  {
   "cell_type": "markdown",
   "metadata": {},
   "source": [
    "I determined the min and max values for runtime in order to help determine what buckets to create."
   ]
  },
  {
   "cell_type": "code",
   "execution_count": 103,
   "metadata": {},
   "outputs": [],
   "source": [
    "# Create a bucketed version of runtime to use for comparison\n",
    "\n",
    "def runtime_bucket(data):\n",
    "    bucket = None\n",
    "    if data < 60:\n",
    "        bucket = '0h'\n",
    "    elif data < 120:\n",
    "        bucket = '1h+'\n",
    "    elif data < 180:\n",
    "        bucket = '2h+'\n",
    "    elif data < 240:\n",
    "        bucket = '3h+'\n",
    "    elif data < 300:\n",
    "        bucket = '4h+'\n",
    "    elif data < 360:\n",
    "        bucket = '5h+'\n",
    "    return bucket\n",
    "        \n",
    "movieList['runtime_bucket'] = movieList['runtime'].apply(runtime_bucket)"
   ]
  },
  {
   "cell_type": "code",
   "execution_count": 104,
   "metadata": {},
   "outputs": [
    {
     "name": "stdout",
     "output_type": "stream",
     "text": [
      "runtime_bucket\n",
      "0h     1.532519e+07\n",
      "1h+    1.026661e+08\n",
      "2h+    2.337939e+08\n",
      "3h+    3.244638e+08\n",
      "5h+    8.712790e+05\n",
      "Name: revenue_adj, dtype: float64\n"
     ]
    },
    {
     "data": {
      "text/plain": [
       "Text(0, 0.5, 'Mean of Adjusted Revenue')"
      ]
     },
     "execution_count": 104,
     "metadata": {},
     "output_type": "execute_result"
    },
    {
     "data": {
      "image/png": "[encoded data removed]",
      "text/plain": [
       "<Figure size 432x288 with 1 Axes>"
      ]
     },
     "metadata": {
      "needs_background": "light"
     },
     "output_type": "display_data"
    }
   ],
   "source": [
    "# Calculate mean revenue_adj for each runtime_bucket\n",
    "\n",
    "runtime_bucket_means = movieList.groupby('runtime_bucket')['revenue_adj'].mean()\n",
    "print(runtime_bucket_means)\n",
    "\n",
    "runtime_bucket_means.plot()\n",
    "plt.xlabel(\"Runtime Bucket\", fontsize=15)\n",
    "plt.ylabel(\"Mean of Adjusted Revenue\", fontsize=15)"
   ]
  },
  {
   "cell_type": "markdown",
   "metadata": {},
   "source": [
    "There is some correlation with higher runtimes and higher adjusted revenue, up to a point."
   ]
  },
  {
   "cell_type": "markdown",
   "metadata": {},
   "source": [
    "<a id='conclusions'></a>\n",
    "## Conclusions"
   ]
  },
  {
   "cell_type": "markdown",
   "metadata": {},
   "source": [
    "1. Does a Higher Budget Correlate to a Higher Popularity?\n",
    "I do not feel that there is sufficient evidence to support this claim. There is some correlation that a higher budget led to a higher mean for adjusted revenue; however, this does not stay constant. \n",
    "\n",
    "2. What are Correlating Factors for Movies that Have the Highest Revenue?\n",
    "There were some slight correlations with adjusted revenue and adjusted budget; however, this correlation did not remain constant. I cannot argue that there is causation here.\n",
    "Runtime had a similar impact on adjusted revenue; a higher runtime seemed to correlate with a higher adjusted revenue up to a certain point, and then it seemed to have a negative impact instead.\n",
    "Looking at the release month, there appeared to be spikes in the mean of adjusted revenue in the months of May/June/July and November/December. \n",
    "There did not seem to be any specific correlation between a mix of runtime and release month for adjusted revenue. There were inconsistent results all over.\n",
    "I do not feel that I was able to determine statistical conclusions with the analysis I did. I cannot imply causation in any of the factors researched. \n",
    "\n",
    "There were some limitations with the analysis done. I had to remove over half of the original 10,000 records due to missing data. I recognized that there were outliers in some of the data points, but was unsure what was appropriate to filter out. \n",
    "For example, there were multiple records that had adjusted budgets below 1000. It felt like these results could have been inaccurate, and therefore could have skewed the findings. I did decide to leave these records in, and only took out records that had 0 values instead. \n",
    "I noticed that a lot of my plots had the same exact shape, and that caused me some concern; however, I checked and found that the values were all different from one another.\n"
   ]
  },
  {
   "cell_type": "code",
   "execution_count": 105,
   "metadata": {},
   "outputs": [
    {
     "data": {
      "text/plain": [
       "255"
      ]
     },
     "execution_count": 105,
     "metadata": {},
     "output_type": "execute_result"
    }
   ],
   "source": [
    "from subprocess import call\n",
    "call(['python', '-m', 'nbconvert', 'Investigate_a_Dataset.ipynb'])"
   ]
  }
 ],
 "metadata": {
  "kernelspec": {
   "display_name": "Python 3",
   "language": "python",
   "name": "python3"
  },
  "language_info": {
   "codemirror_mode": {
    "name": "ipython",
    "version": 3
   },
   "file_extension": ".py",
   "mimetype": "text/x-python",
   "name": "python",
   "nbconvert_exporter": "python",
   "pygments_lexer": "ipython3",
   "version": "3.8.3"
  }
 },
 "nbformat": 4,
 "nbformat_minor": 2
}
